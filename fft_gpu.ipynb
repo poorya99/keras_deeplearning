{
  "nbformat": 4,
  "nbformat_minor": 0,
  "metadata": {
    "colab": {
      "provenance": [],
      "authorship_tag": "ABX9TyPlFVAMcV8zXgIDEfjStjP8",
      "include_colab_link": true
    },
    "kernelspec": {
      "name": "python3",
      "display_name": "Python 3"
    },
    "language_info": {
      "name": "python"
    },
    "accelerator": "GPU",
    "gpuClass": "standard"
  },
  "cells": [
    {
      "cell_type": "markdown",
      "metadata": {
        "id": "view-in-github",
        "colab_type": "text"
      },
      "source": [
        "<a href=\"https://colab.research.google.com/github/poorya99/keras_deeplearning/blob/main/fft_gpu.ipynb\" target=\"_parent\"><img src=\"https://colab.research.google.com/assets/colab-badge.svg\" alt=\"Open In Colab\"/></a>"
      ]
    },
    {
      "cell_type": "markdown",
      "source": [
        "Runtime > Change runtime type > Setting the Hardware accelerator to GPU > Save"
      ],
      "metadata": {
        "id": "x1fF7Nu1kIdc"
      }
    },
    {
      "cell_type": "markdown",
      "source": [
        "https://github.com/flin3500/cuda-google-colab\n",
        "\n",
        "https://harshityadav95.medium.com/how-to-run-cuda-c-or-c-on-google-colab-or-azure-notebook-ea75a23a5962\n",
        "\n",
        "https://stackoverflow.com/questions/72104648/how-can-i-fix-this-dpkg-error-while-installing-cuda-on-google-colab"
      ],
      "metadata": {
        "id": "Yr6BKPJjlO3o"
      }
    },
    {
      "cell_type": "code",
      "execution_count": 24,
      "metadata": {
        "colab": {
          "base_uri": "https://localhost:8080/"
        },
        "id": "Vd03fi2ZVpHZ",
        "outputId": "f84a8202-d795-4f9d-aa5b-d4b01575a41b"
      },
      "outputs": [
        {
          "output_type": "stream",
          "name": "stdout",
          "text": [
            "nvcc: NVIDIA (R) Cuda compiler driver\n",
            "Copyright (c) 2005-2021 NVIDIA Corporation\n",
            "Built on Sun_Feb_14_21:12:58_PST_2021\n",
            "Cuda compilation tools, release 11.2, V11.2.152\n",
            "Build cuda_11.2.r11.2/compiler.29618528_0\n"
          ]
        }
      ],
      "source": [
        "!nvcc --version"
      ]
    },
    {
      "cell_type": "code",
      "source": [
        "!pip install git+https://github.com/andreinechaev/nvcc4jupyter.git"
      ],
      "metadata": {
        "colab": {
          "base_uri": "https://localhost:8080/"
        },
        "id": "NFopAzLKWzo0",
        "outputId": "d36449c7-77a0-4d10-d3de-f0bb739c73eb"
      },
      "execution_count": 25,
      "outputs": [
        {
          "output_type": "stream",
          "name": "stdout",
          "text": [
            "Looking in indexes: https://pypi.org/simple, https://us-python.pkg.dev/colab-wheels/public/simple/\n",
            "Collecting git+https://github.com/andreinechaev/nvcc4jupyter.git\n",
            "  Cloning https://github.com/andreinechaev/nvcc4jupyter.git to /tmp/pip-req-build-6g9hxuqa\n",
            "  Running command git clone -q https://github.com/andreinechaev/nvcc4jupyter.git /tmp/pip-req-build-6g9hxuqa\n"
          ]
        }
      ]
    },
    {
      "cell_type": "code",
      "source": [
        "%load_ext nvcc_plugin"
      ],
      "metadata": {
        "colab": {
          "base_uri": "https://localhost:8080/"
        },
        "id": "FjlMxHQUXmlz",
        "outputId": "e5a9b2af-2c8f-496b-d70a-4f07ee46b5cb"
      },
      "execution_count": 26,
      "outputs": [
        {
          "output_type": "stream",
          "name": "stdout",
          "text": [
            "The nvcc_plugin extension is already loaded. To reload it, use:\n",
            "  %reload_ext nvcc_plugin\n"
          ]
        }
      ]
    },
    {
      "cell_type": "code",
      "source": [
        "%%writefile fft.cu\n",
        "//ONLY MODIFY THIS FILE!\n",
        "//YOU CAN MODIFY EVERYTHING IN THIS FILE!\n",
        "\n",
        "#include \"fft.h\"\n",
        "#include <stdint.h>\n",
        "#include <cstdint>\n",
        "\n",
        "#define tx threadIdx.x\n",
        "#define ty threadIdx.y\n",
        "#define tz threadIdx.z\n",
        "\n",
        "#define bx blockIdx.x\n",
        "#define by blockIdx.y\n",
        "#define bz blockIdx.z\n",
        "\n",
        "// you may define other parameters here!\n",
        "__device__ int reverse_bits_4(int x)\n",
        "{\n",
        "    \n",
        "    // 1. Swap the position of consecutive pairs of bits\n",
        "    // 2. Swap the position of consecutive quads of bits\n",
        "    // 3. Continue this until swapping the two consecutive 16-bit parts of x\n",
        "    \n",
        "    x = ((x & 0xcccccccc) >> 2) | ((x & 0x33333333) << 2);\n",
        "    x = ((x & 0xf0f0f0f0) >> 4) | ((x & 0x0f0f0f0f) << 4);\n",
        "    x = ((x & 0xff00ff00) >> 8) | ((x & 0x00ff00ff) << 8);\n",
        "    x = ((x & 0xffff0000) >> 16) | ((x & 0x0000ffff) << 16);\n",
        "    return x;\n",
        "}\n",
        "\n",
        "\n",
        "__global__ void kernelFunc(float* x_r, float* x_i, const int N, const int M) {\n",
        "\n",
        "\t// write your GPU kernel function here\n",
        "\n",
        "    //int row = by * blockDim.y + ty;\n",
        "    //int col = bx * blockDim.x + tx;\n",
        "  \n",
        "    int logN = (int) log2f((float) N);\n",
        "\n",
        "\tint Idx = bx * blockDim.x + tx;\n",
        " \n",
        "  \n",
        "\t// Reverse the 32-bit index.\n",
        "\tunsigned int rev0 = reverse_bits_4(4*Idx);\n",
        "\tunsigned int rev1 = reverse_bits_4(4*Idx+1);\n",
        "\tunsigned int rev2 = reverse_bits_4(4*Idx+2);\n",
        "\tunsigned int rev3 = reverse_bits_4(4*Idx+3);\n",
        "\t// Only keep the last logN bits of the output.\n",
        "\trev0 = rev0 >> (32 - logN);\n",
        "\trev1 = rev1 >> (32 - logN);\n",
        "\trev2 = rev2 >> (32 - logN);\n",
        "\trev3 = rev3 >> (32 - logN);\n",
        "  \n",
        "  //printf(\"\\n Idx = %d(%d, %d, %d, %d) \", Idx, rev0,rev1,rev2,rev3);\n",
        "\n",
        "\t// Base case: set the output to the bit-reversed input.\n",
        "\tfloat x_tmp_r0 = x_r[rev0];\n",
        "\tfloat x_tmp_i0 = x_i[rev0];\n",
        "\tfloat x_tmp_r1 = x_r[rev1];\n",
        "\tfloat x_tmp_i1 = x_i[rev1];\n",
        "\t\n",
        "\tfloat x_tmp_r2 = x_r[rev2];\n",
        "\tfloat x_tmp_i2 = x_i[rev2];\n",
        "\tfloat x_tmp_r3 = x_r[rev3];\n",
        "\tfloat x_tmp_i3 = x_i[rev3];\n",
        "\t\n",
        "    __syncthreads();\n",
        "  x_r[4*Idx  ] = x_tmp_r0;\n",
        "\tx_i[4*Idx  ] = x_tmp_i0;\n",
        "\tx_r[4*Idx+1] = x_tmp_r1;\n",
        "\tx_i[4*Idx+1] = x_tmp_i1;\n",
        "\tx_r[4*Idx+2] = x_tmp_r2;\n",
        "\tx_i[4*Idx+2] = x_tmp_i2;\n",
        "\tx_r[4*Idx+3] = x_tmp_r3;\n",
        "\tx_i[4*Idx+3] = x_tmp_i3;\n",
        "\n",
        "\t__syncthreads();\n",
        "  //**************************************************************\n",
        "if(Idx == 0){\n",
        "  int d = 0;\n",
        "  int xx = ~d;\n",
        "\n",
        "  printf(\"xxxxxxx%u, \", sizeof(xx));\n",
        "\n",
        "\n",
        "for(uint32_t deb1 = 0;deb1<N;deb1++){\n",
        "  uint32_t intt = ((reverse_bits_4(deb1)));\n",
        "  intt = (unsigned int)intt>> (32 - logN);\n",
        "  //intt = intt & 0x‭7FFFFFFF‬;\n",
        "printf(\"%d, \", intt);\n",
        "\n",
        "}\n",
        "\n",
        "    int c = 0;printf(\"\\n\");\n",
        "}\n",
        "\t__syncthreads();\n",
        "   for (int s = 1; s <= logN/2; s++) {\n",
        "\n",
        "\tint m = 1 << (2*s);\n",
        "\tint mh = 1 << (2*s - 2);\n",
        "\tint k = m * (Idx / mh);\n",
        "\tint j = Idx%mh;\n",
        "\tfloat  twiddle_r = cos(-2.0 * j * PI / m);\n",
        "\tfloat  twiddle_i = sin(-2.0 * j * PI / m);\n",
        "\t\n",
        "\tfloat  a_r = x_r[k + j];float  a_i = x_i[k + j];\n",
        "\t\n",
        "\tint a = k + j , b = k + j + mh, c = k + j + 2*mh , d = k + j + 3*mh;\n",
        "   \n",
        "   \n",
        "\t \n",
        "\tfloat  twiddle_factor_r = twiddle_r;\n",
        "\tfloat  twiddle_factor_i = twiddle_i;\n",
        "\tfloat  b_r = twiddle_factor_r * x_r[k + j + mh]-twiddle_factor_i * x_i[k + j + mh];\n",
        "\tfloat  b_i = twiddle_factor_r * x_i[k + j + mh]+twiddle_factor_i * x_r[k + j + mh];\n",
        "\t\n",
        "\t\n",
        "\tfloat tmp_tw_r =twiddle_factor_r ;float tmp_tw_i = twiddle_factor_i;\n",
        "\ttwiddle_factor_r = twiddle_r*tmp_tw_r-twiddle_i*tmp_tw_i;\n",
        "\ttwiddle_factor_i = twiddle_r*tmp_tw_i+twiddle_i*tmp_tw_r;\n",
        "\tfloat  c_r = twiddle_factor_r * x_r[k + j + 2*mh]-twiddle_factor_i * x_i[k + j + 2*mh];\n",
        "\tfloat  c_i = twiddle_factor_r * x_i[k + j + 2*mh]+twiddle_factor_i * x_r[k + j + 2*mh];\n",
        "\t\n",
        "\t\n",
        "\ttmp_tw_r =twiddle_factor_r ;tmp_tw_i = twiddle_factor_i;\n",
        "\ttwiddle_factor_r = twiddle_r*tmp_tw_r-twiddle_i*tmp_tw_i;\n",
        "\ttwiddle_factor_i = twiddle_r*tmp_tw_i+twiddle_i*tmp_tw_r;\n",
        "\tfloat  d_r = twiddle_factor_r * x_r[k + j + 3*mh]-twiddle_factor_i * x_i[k + j + 3*mh];\n",
        "\tfloat  d_i = twiddle_factor_r * x_i[k + j + 3*mh]+twiddle_factor_i * x_r[k + j + 3*mh];\n",
        "\t// Compute pow(twiddle, j) twiddle_factor *= twiddle;\n",
        "\t\n",
        "\t\n",
        "\n",
        "\n",
        "\tx_r[k + j] = a_r + b_r+c_r+d_r;     \tx_i[k + j] = a_i + b_i+c_i+d_i;\n",
        "\tx_r[k + j + mh] = a_r + b_i-c_r-d_i; \tx_i[k + j + mh] = a_i - b_r - c_i + d_r;\n",
        "\tx_r[k + j + 2*mh] = a_r - b_r+c_r - d_r;x_i[k + j + 2*mh] = a_i - b_i + c_i - d_i;\n",
        "\tx_r[k + j + 3*mh] = a_r - b_i-c_r+d_i  ;x_i[k + j + 3*mh] = a_i + b_r - c_i - d_r;\n",
        "\t__syncthreads();\n",
        "    }\n",
        "\n",
        "\n",
        "}\n",
        "\n",
        "\n",
        "\n",
        "\n",
        "\n",
        "// you may define other macros here!\n",
        "// you may define other functions here!\n",
        "\n",
        "//-----------------------------------------------------------------------------\n",
        "void gpuKernel(float* x_r_d, float* x_i_d, /*float* X_r_d, float* X_i_d,*/ const unsigned int N, const unsigned int M)\n",
        "{\n",
        "\t// In this function, both inputs and outputs are on GPU.\n",
        "\t// No need for cudaMalloc, cudaMemcpy or cudaFree.\n",
        "\t// This function does not run on GPU. \n",
        "\t// You need to define another function and call it here for GPU execution.\n",
        "\tint R =4; //radix 4\n",
        "//\tdim3 dimGrid = getDimGrid(N/(1024*R)); //modify this function in bmm.cu\n",
        "//\tdim3 dimBlock = getDimBlock(1024); //modify this function in bmm.cu\n",
        "int cuda_device_ix = 0;\n",
        "cudaDeviceProp prop;\n",
        "\n",
        "int size = N>>2;\n",
        "int block_size = min(size, 1024);\n",
        "dim3 block(block_size, 1);\n",
        "dim3 grid((size ) / block_size, 1);\n",
        "printf(\"block = %d, grid = %d                %d            %d / %d\\n\", block_size, (size+1 ) / block_size,N,size,block_size);\n",
        "\tkernelFunc<<< grid,block >>>(x_r_d, x_i_d, N, M); //modify this function in fft.cu\n",
        "\n",
        "\n",
        "}\n",
        "\n",
        " "
      ],
      "metadata": {
        "id": "d-7DMsB3Z6-I",
        "colab": {
          "base_uri": "https://localhost:8080/"
        },
        "outputId": "38599116-221d-4932-9b42-4119a967a619"
      },
      "execution_count": 27,
      "outputs": [
        {
          "output_type": "stream",
          "name": "stdout",
          "text": [
            "Overwriting fft.cu\n"
          ]
        }
      ]
    },
    {
      "cell_type": "code",
      "source": [
        "%%writefile fft_main.cu\n",
        "\n",
        "\n",
        "//Do NOT MODIFY THIS FILE\n",
        "\n",
        "#include \"fft.h\"\n",
        "\n",
        "// ===========================> Functions Prototype <===============================\n",
        "void fill(float* data, int size);\n",
        "double calc_mse(float* data1_r, float* data1_i, float* data2_r, float* data2_i, int size);\n",
        "void get_inputs(int argc, char *argv[], unsigned int& N, unsigned int& M);\n",
        "void cpuKernel(float* X_serial_r, float* X_serial_i, int n, float* tmp_r, float* tmp_i);\n",
        "void gpuKernels(float* x_r, float* x_i, float* X_r, float* X_i, unsigned int N, unsigned int M, double* gpu_kernel_time);\n",
        "// =================================================================================\n",
        "\n",
        "int main(int argc, char *argv[]) {\n",
        "\n",
        "    struct cudaDeviceProp p;\n",
        "    cudaGetDeviceProperties(&p, 0);\n",
        "    printf(\"Device Name: %s\\n\", p.name);\n",
        "\n",
        "    // get parameters from command line\n",
        "    unsigned int N, M;\n",
        "    get_inputs(argc, argv, N, M);\n",
        "\n",
        "    // allocate memory in CPU for calculation\n",
        "    float* x_r; // real part\n",
        "    float* x_i; // imaginary part\n",
        "    float* X_serial_r;\n",
        "    float* X_serial_i;\n",
        "    float* X_r;\n",
        "    float* X_i;\n",
        "    x_r = (float*) malloc(N * sizeof(float));\n",
        "    x_i = (float*) malloc(N * sizeof(float));\n",
        "    X_serial_r = (float*) malloc(N * sizeof(float));\n",
        "    X_serial_i = (float*) malloc(N * sizeof(float));\n",
        "    X_r = (float*) malloc(N * sizeof(float));\n",
        "    X_i = (float*) malloc(N * sizeof(float));\n",
        "\n",
        "    // fill x_r and x_i arrays with random values between -8.0f and 8.0f\n",
        "    srand(0);\n",
        "   /* fill(x_r, N);\n",
        "    fill(x_i, N);*/\n",
        "\t\tfor(int pdcnt = 0; pdcnt<N;pdcnt++){\n",
        "\t\t x_r[pdcnt] = pdcnt;\n",
        "\t\t x_i[pdcnt] = 0;\n",
        "\n",
        "\t\t}\n",
        "\t\t\n",
        "\tint i; for (i = 0; i < N; i++) {\n",
        "\t\tX_serial_r[i] = x_r[i];\n",
        "\t\tX_serial_i[i] = x_i[i];\n",
        "\t}\n",
        "\n",
        "    // time measurement for CPU calculation\n",
        "\tfloat *tmp_r, *tmp_i;\n",
        "\ttmp_r = (float*) malloc(N * sizeof(float));\n",
        "    tmp_i = (float*) malloc(N * sizeof(float));\n",
        "    clock_t t0 = clock();\n",
        "    cpuKernel(X_serial_r, X_serial_i, N, tmp_r, tmp_i);\n",
        "    clock_t t1 = clock();\n",
        "\tfree(tmp_r); free(tmp_i);\n",
        "\n",
        "    // time measurement for GPU calculation\n",
        "\tdouble gpu_kernel_time = 0.0;\n",
        "    clock_t t2 = clock();\n",
        "\tgpuKernels(x_r, x_i, X_r, X_i, N, M, &gpu_kernel_time);\n",
        "    clock_t t3 = clock();\n",
        "\n",
        " \t\n",
        "\t/*\n",
        "\tfor (i = 0; i<N; i++) {\n",
        "\t\tprintf(\"%f\\t%f\\n\", X_r[i],X_serial_r[i] );\n",
        "\t}\n",
        "\tprintf(\"\\n\");\n",
        "\tfor (i = 0; i<N; i++) {\n",
        "\t\tprintf(\"%f\\t%f\\n\", X_i[i] ,X_serial_i[i]);\n",
        "\t}*/\n",
        "\t   // check correctness of calculation\n",
        "    double mse = calc_mse(X_serial_r, X_serial_i, X_r, X_i, N);\n",
        "\tprintf(\"m=%d n=%d CPU=%g ms GPU=%g ms GPU-Kernels=%g ms mse=%g\\n\",\n",
        "\tM, N, (t1-t0)/1000.0, (t3-t2)/1000.0, gpu_kernel_time, mse);\n",
        "\n",
        "\t\n",
        "    // free allocated memory for later use\n",
        "    free(x_r);\n",
        "    free(x_i);\n",
        "    free(X_serial_r);\n",
        "    free(X_serial_i);\n",
        "    free(X_r);\n",
        "    free(X_i);\n",
        "\n",
        "    return 0;\n",
        "}\n",
        "\n",
        "//-----------------------------------------------------------------------------\n",
        "void gpuKernels(float* x_r, float* x_i, float* X_r, float* X_i, unsigned int N, unsigned int M, double* gpu_kernel_time) {\n",
        "    float* x_r_d;\n",
        "    float* x_i_d;\n",
        "    //float* X_r_d;\n",
        "    //float* X_i_d;\n",
        "\n",
        "    HANDLE_ERROR(cudaMalloc((void**)&x_r_d, N * sizeof(float)));\n",
        "    HANDLE_ERROR(cudaMalloc((void**)&x_i_d, N * sizeof(float)));\n",
        "    //HANDLE_ERROR(cudaMalloc((void**)&X_r_d, N * sizeof(float)));\n",
        "    //HANDLE_ERROR(cudaMalloc((void**)&X_i_d, N * sizeof(float)));\n",
        "\n",
        "    HANDLE_ERROR(cudaMemcpy(x_r_d, x_r, N * sizeof(float), cudaMemcpyHostToDevice));\n",
        "    HANDLE_ERROR(cudaMemcpy(x_i_d, x_i, N * sizeof(float), cudaMemcpyHostToDevice));\n",
        "\n",
        "\tGpuTimer timer;\n",
        "    timer.Start();\n",
        "\tgpuKernel(x_r_d, x_i_d, N, M);/*<<<dim3(32,1,1),dim3(32,1,1)>>>(x_r_d, x_i_d, N, M);*/\n",
        "\ttimer.Stop();\n",
        "\t*gpu_kernel_time = timer.Elapsed();\n",
        "\t\n",
        "    //HANDLE_ERROR(cudaMemcpy(X_r, X_r_d, N * sizeof(float), cudaMemcpyDeviceToHost));\n",
        "    //HANDLE_ERROR(cudaMemcpy(X_i, X_i_d, N * sizeof(float), cudaMemcpyDeviceToHost));\n",
        "    HANDLE_ERROR(cudaMemcpy(X_r, x_r_d, N * sizeof(float), cudaMemcpyDeviceToHost));\n",
        "    HANDLE_ERROR(cudaMemcpy(X_i, x_i_d, N * sizeof(float), cudaMemcpyDeviceToHost));\n",
        "\n",
        "    HANDLE_ERROR(cudaFree(x_r_d));\n",
        "    HANDLE_ERROR(cudaFree(x_i_d));\n",
        "    //HANDLE_ERROR(cudaFree(X_r_d));\n",
        "    //HANDLE_ERROR(cudaFree(X_i_d));\n",
        "}\n",
        "//-----------------------------------------------------------------------------\n",
        "void cpuKernel(float* X_serial_r, float* X_serial_i, int n, float* tmp_r, float* tmp_i) {\n",
        "\tif(n > 1) {\t// otherwise, do nothing and return\n",
        "\t\tint k, m;\n",
        "\t\tfloat z_r, z_i, w_r, w_i;\n",
        "\t\tfloat *vo_r, *vo_i, *ve_r, *ve_i;\n",
        "\t\tve_r = tmp_r; ve_i = tmp_i;\n",
        "\t\tvo_r = tmp_r + n/2; vo_i = tmp_i + n/2;\n",
        "\t\t\n",
        "\t\tfor(k=0; k<n/2; k++) {\n",
        "\t\t\tve_r[k] = X_serial_r[2*k]; ve_i[k] = X_serial_i[2*k];\n",
        "\t\t\tvo_r[k] = X_serial_r[2*k+1]; vo_i[k] = X_serial_i[2*k+1];\n",
        "\t\t}\n",
        "\t\tcpuKernel(ve_r, ve_i, n/2, X_serial_r, X_serial_i);\t// FFT on even-indexed elements of v[]\n",
        "\t\tcpuKernel(vo_r, vo_i, n/2, X_serial_r, X_serial_i);\t// FFT on odd-indexed elements of v[]\n",
        "\t\t\n",
        "\t\tfor(m=0; m<n/2; m++) {\n",
        "\t\t\tw_r =  cos((2*PI*m)/n);\n",
        "\t\t\tw_i = -sin((2*PI*m)/n);\n",
        "\t\t\tz_r = w_r*vo_r[m] - w_i*vo_i[m];\t// Re(w*vo[m])\n",
        "\t\t\tz_i = w_r*vo_i[m] + w_i*vo_r[m];\t// Im(w*vo[m])\n",
        "\t\t\tX_serial_r[  m  ] = ve_r[m] + z_r;\n",
        "\t\t\tX_serial_i[  m  ] = ve_i[m] + z_i;\n",
        "\t\t\tX_serial_r[m+n/2] = ve_r[m] - z_r;\n",
        "\t\t\tX_serial_i[m+n/2] = ve_i[m] - z_i;\n",
        "\t\t}\n",
        "\t}\n",
        "\treturn;\n",
        "}\n",
        "//-----------------------------------------------------------------------------\n",
        "void get_inputs(int argc, char *argv[], unsigned int& N, unsigned int& M)\n",
        "{\n",
        "    if (\n",
        "\targc != 2 || \n",
        "\tatoi(argv[1]) < 0 || atoi(argv[1]) > 26 \n",
        "\t) {\n",
        "        printf(\"<< Error >>\\n\");\n",
        "        printf(\"Enter the following command:\\n\");\n",
        "        printf(\"\\t./a.out  M\\n\");\n",
        "        printf(\"\\t\\tM must be between 0 and 26\\n\");\n",
        "\t\texit(-1);\n",
        "    }\n",
        "\tM = atoi(argv[1]);\n",
        "    N = (1 << M);\n",
        "}\n",
        "//-----------------------------------------------------------------------------\n",
        "void fill(float* data, int size) {\n",
        "    for (int i = 0; i < size; i++)\n",
        "        data[i] = (float)(rand() % 17 - 8);\n",
        "}\n",
        "double calc_mse(float* data1_r, float* data1_i, float* data2_r, float* data2_i, int size) {\n",
        "    double mse = 0.0;\n",
        "    int i;\n",
        "    for (i = 0; i < size; i++) {\n",
        "        double e_r = data1_r[i] - data2_r[i];\n",
        "\t\t\t\tif (e_r <0.5)\n",
        "\t\t\t\t\te_r = 0;\n",
        "\t\t\t\t//else\n",
        "\t\t\t\t//\tprintf(\"%d %g\\t\", i, e_r);\n",
        "        double e_i = data1_i[i] - data2_i[i];\n",
        "\t\t\t\tif (e_i <0.5)\n",
        "\t\t\t\t\te_i = 0;\n",
        "        double e = e_r * e_r + e_i * e_i;\n",
        "        mse += e;\n",
        "    }\n",
        "    return mse/size;\n",
        "}\n"
      ],
      "metadata": {
        "colab": {
          "base_uri": "https://localhost:8080/"
        },
        "id": "45C8-TrpX3dT",
        "outputId": "73d12764-d080-461e-cd82-caf8d3e4c4ff"
      },
      "execution_count": 28,
      "outputs": [
        {
          "output_type": "stream",
          "name": "stdout",
          "text": [
            "Overwriting fft_main.cu\n"
          ]
        }
      ]
    },
    {
      "cell_type": "code",
      "source": [
        "!nvcc -O2 fft_main.cu fft.cu -o fft"
      ],
      "metadata": {
        "colab": {
          "base_uri": "https://localhost:8080/"
        },
        "id": "S1bmPhdxbXzI",
        "outputId": "1805acc4-7d15-41f5-ea8c-62c713533fd5"
      },
      "execution_count": 29,
      "outputs": [
        {
          "output_type": "stream",
          "name": "stdout",
          "text": [
            "fft.cu(84): warning: argument is incompatible with corresponding format string conversion\n",
            "\n",
            "fft.cu(82): warning: variable \"xx\" was set but never used\n",
            "\n",
            "fft.cu(95): warning: variable \"c\" was declared but never referenced\n",
            "\n",
            "fft.cu(109): warning: variable \"a\" was declared but never referenced\n",
            "\n",
            "fft.cu(109): warning: variable \"b\" was declared but never referenced\n",
            "\n",
            "fft.cu(109): warning: variable \"c\" was declared but never referenced\n",
            "\n",
            "fft.cu(109): warning: variable \"d\" was declared but never referenced\n",
            "\n",
            "fft.cu(160): warning: variable \"R\" was declared but never referenced\n",
            "\n",
            "fft.cu(163): warning: variable \"cuda_device_ix\" was declared but never referenced\n",
            "\n",
            "fft.cu(164): warning: variable \"prop\" was declared but never referenced\n",
            "\n"
          ]
        }
      ]
    },
    {
      "cell_type": "code",
      "source": [
        " !./fft 14"
      ],
      "metadata": {
        "colab": {
          "base_uri": "https://localhost:8080/"
        },
        "id": "UtmtQNoMbodU",
        "outputId": "7cbf323c-8605-4c65-d6a0-4be682c1495e"
      },
      "execution_count": 30,
      "outputs": [
        {
          "output_type": "stream",
          "name": "stdout",
          "text": [
            "Device Name: \n",
            "no CUDA-capable device is detected in fft_main.cu at line 102\n"
          ]
        }
      ]
    }
  ]
}